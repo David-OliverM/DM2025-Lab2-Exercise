{
 "cells": [
  {
   "cell_type": "markdown",
   "metadata": {},
   "source": [
    "### **Student Information**\n",
    "Name:\n",
    "\n",
    "Student ID:\n",
    "\n",
    "GitHub ID:\n",
    "\n",
    "Kaggle name:\n",
    "\n",
    "Kaggle private scoreboard snapshot: \n",
    "\n",
    "![pic_ranking.png](./pics/pic_ranking.png)"
   ]
  },
  {
   "cell_type": "markdown",
   "metadata": {},
   "source": [
    "---"
   ]
  },
  {
   "cell_type": "markdown",
   "metadata": {},
   "source": [
    "# **Instructions**"
   ]
  },
  {
   "cell_type": "markdown",
   "metadata": {},
   "source": [
    "For this lab we have divided the assignments into **three phases/parts**. The `first two phases` refer to the `exercises inside the Master notebooks` of the [DM2025-Lab2-Exercise Repo](https://github.com/difersalest/DM2025-Lab2-Exercise.git). The `third phase` refers to an `internal Kaggle competition` that we are gonna run among all the Data Mining students. Together they add up to `100 points` of your grade. There are also some `bonus points` to be gained if you complete `extra exercises` in the lab **(bonus 15 pts)** and in the `Kaggle Competition report` **(bonus 5 pts)**.\n",
    "\n",
    "**Environment recommendations to solve lab 2:**\n",
    "- **Phase 1 exercises:** Need GPU for training the models explained in that part, if you don't have a GPU in your laptop it is recommended to run in Colab or Kaggle for a faster experience, although with CPU they can still be solved but with a slower execution.\n",
    "- **Phase 2 exercises:** We use Gemini's API so everything can be run with only CPU without a problem.\n",
    "- **Phase 3 exercises:** For the competition you will probably need GPU to train your models, so it is recommended to use Colab or Kaggle if you don't have a laptop with a dedicated GPU.\n",
    "- **Optional Ollama Notebook (not graded):** You need GPU, at least 4GB of VRAM with 16 GB of RAM to run the local open-source LLM models. \n",
    "\n",
    "## **Phase 1 (30 pts):**\n",
    "\n",
    "1. __Main Exercises (25 pts):__ Do the **take home exercises** from Sections: `1. Data Preparation` to `9. High-dimension Visualization: t-SNE and UMAP`, in the [DM2025-Lab2-Master-Phase_1 Notebook](https://github.com/difersalest/DM2025-Lab2-Exercise/blob/main/DM2025-Lab2-Master-Phase_1.ipynb). Total: `8 exercises`. Commit your code and submit the repository link to NTU Cool **`BEFORE the deadline (Nov. 3th, 11:59 pm, Monday)`**\n",
    "\n",
    "2. **Code Comments (5 pts):** **Tidy up the code in your notebook**. \n",
    "\n",
    "## **Phase 2 (30 pts):**\n",
    "\n",
    "1. **Main Exercises (25 pts):** Do the remaining **take home exercises** from Section: `2. Large Language Models (LLMs)` in the [DM2025-Lab2-Master-Phase_2_Main Notebook](https://github.com/difersalest/DM2025-Lab2-Exercise/blob/main/DM2025-Lab2-Master-Phase_2_Main.ipynb). Total: `5 exercises required from sections 2.1, 2.2, 2.4 and 2.6`. Commit your code and submit the repository link to NTU Cool **`BEFORE the deadline (Nov. 24th, 11:59 pm, Monday)`**\n",
    "\n",
    "2. **Code Comments (5 pts):** **Tidy up the code in your notebook**. \n",
    "\n",
    "3. **`Bonus (15 pts):`** Complete the bonus exercises in the [DM2025-Lab2-Master-Phase_2_Bonus Notebook](https://github.com/difersalest/DM2025-Lab2-Exercise/blob/main/DM2025-Lab2-Master-Phase_2_Bonus.ipynb) and [DM2025-Lab2-Master-Phase_2_Main Notebook](https://github.com/difersalest/DM2025-Lab2-Exercise/blob/main/DM2025-Lab2-Master-Phase_2_Main.ipynb) `where 2 exercises are counted as bonus from sections 2.3 and 2.5 in the main notebook`. Total: `7 exercises`. Commit your code and submit the repository link to NTU Cool **`BEFORE the deadline (Nov. 24th, 11:59 pm, Monday)`**\n",
    "\n",
    "## **Phase 3 (40 pts):**\n",
    "\n",
    "1. **Kaggle Competition Participation (30 pts):** Participate in the in-class **Kaggle Competition** regarding Emotion Recognition on Twitter by clicking in this link: **[Data Mining Class Kaggle Competition](https://www.kaggle.com/t/3a2df4c6d6b4417e8bf718ed648d7554)**. The scoring will be given according to your place in the Private Leaderboard ranking: \n",
    "    - **Bottom 40%**: Get 20 pts of the 30 pts in this competition participation part.\n",
    "\n",
    "    - **Top 41% - 100%**: Get (0.6N + 1 - x) / (0.6N) * 10 + 20 points, where N is the total number of participants, and x is your rank. (ie. If there are 100 participants and you rank 3rd your score will be (0.6 * 100 + 1 - 3) / (0.6 * 100) * 10 + 20 = 29.67% out of 30%.)   \n",
    "    Submit your last submission **`BEFORE the deadline (Nov. 24th, 11:59 pm, Monday)`**. Make sure to take a screenshot of your position at the end of the competition and store it as `pic_ranking.png` under the `pics` folder of this repository and rerun the cell **Student Information**.\n",
    "\n",
    "2. **Competition Report (10 pts)** A report section to be filled in inside this notebook in Markdown Format, we already provided you with the template below. You need to describe your work developing the model for the competition. The report should include a section describing briefly the following elements: \n",
    "* Your preprocessing steps.\n",
    "* The feature engineering steps.\n",
    "* Explanation of your model.\n",
    "\n",
    "* **`Bonus (5 pts):`**\n",
    "    * You will have to describe more detail in the previous steps.\n",
    "    * Mention different things you tried.\n",
    "    * Mention insights you gained. \n",
    "\n",
    "[Markdown Guide - Basic Syntax](https://www.markdownguide.org/basic-syntax/)\n",
    "\n",
    "**`Things to note for Phase 3:`**\n",
    "\n",
    "* **The code used for the competition should be in this Jupyter Notebook File** `DM2025-Lab2-Homework.ipynb`.\n",
    "\n",
    "* **Push the code used for the competition to your repository**.\n",
    "\n",
    "* **The code should have a clear separation for the same sections of the report, preprocessing, feature engineering and model explanation. Briefly comment your code for easier understanding, we provide a template at the end of this notebook.**\n",
    "\n",
    "* Showing the kaggle screenshot of the ranking plus the code in this notebook will ensure the validity of your participation and the report to obtain the corresponding points.\n",
    "\n",
    "After the competition ends you will have two days more to submit the `DM2025-Lab2-Homework.ipynb` with your report in markdown format and your code. Do everything **`BEFORE the deadline (Nov. 26th, 11:59 pm, Wednesday) to obtain 100% of the available points.`**\n",
    "\n",
    "Upload your files to your repository then submit the link to it on the corresponding NTU Cool assignment.\n",
    "\n",
    "## **Deadlines:**\n",
    "\n",
    "![lab2_deadlines](./pics/lab2_deadlines.png)"
   ]
  },
  {
   "cell_type": "markdown",
   "metadata": {},
   "source": [
    "---\n",
    "\n",
    "Next you will find the template report with some simple markdown syntax explanations, use it to structure your content.\n",
    "\n",
    "You can delete the syntax suggestions after you use them.\n",
    "\n",
    "---"
   ]
  },
  {
   "cell_type": "markdown",
   "metadata": {},
   "source": [
    "***\n",
    "\n",
    "# **Project Report**\n",
    "\n",
    "**Syntax:** `#` creates the largest heading (H1).\n",
    "\n",
    "---\n",
    "**Syntax:** `---` creates a horizontal rule (a separator line).\n",
    "\n",
    "## 1. Model Development (10 pts Required)\n",
    "\n",
    "**Syntax:** `##` creates a secondary heading (H2).\n",
    "\n",
    "**Describe briefly each section, you can add graphs/charts to support your explanations.**\n",
    "\n",
    "### 1.1 Preprocessing Steps\n",
    "\n",
    "**Syntax:** `###` creates a tertiary heading (H3).\n",
    "\n",
    "[Content for Preprocessing]\n",
    "\n",
    "**Example Syntax for Content:**\n",
    "*   **Bold text:** `**text**`\n",
    "*   *Italic text*: `*text*`\n",
    "*   Bullet point list:\n",
    "    * Item 1\n",
    "    * Item 2\n",
    "\n",
    "Markdown Syntax to Add Image: `![Description of the Image](./your_local_folder/name_of_the_image.png)`\n",
    "\n",
    "![Example Markdown Syntax to Add Image](./pics/example_md_img.png)\n",
    "\n",
    "### 1.2 Feature Engineering Steps\n",
    "\n",
    "[Content for Feature Engineering]\n",
    "\n",
    "### 1.3 Explanation of Your Model\n",
    "\n",
    "[Content for Model Explanation]\n",
    "\n",
    "---\n",
    "\n",
    "## 2. Bonus Section (5 pts Optional)\n",
    "\n",
    "**Add more detail in previous sections**\n",
    "\n",
    "### 2.1 Mention Different Things You Tried\n",
    "\n",
    "[Content for Experiments]\n",
    "\n",
    "### 2.2 Mention Insights You Gained\n",
    "\n",
    "[Content for Insights]\n",
    "\n",
    "---"
   ]
  },
  {
   "cell_type": "markdown",
   "metadata": {},
   "source": [
    "**`From here on starts the code section for the competition.`**\n",
    "\n",
    "---"
   ]
  },
  {
   "cell_type": "markdown",
   "metadata": {},
   "source": [
    "# **Competition Code**\n",
    "\n",
    "## 1. Preprocessing Steps"
   ]
  },
  {
   "cell_type": "code",
   "execution_count": 2,
   "metadata": {},
   "outputs": [
    {
     "name": "stdout",
     "output_type": "stream",
     "text": [
      "Using data directory: D:\\Development\\Uni\\DataMining\\DM2025-Lab2-Exercise\\dm-lab-2-private-competition-data\n",
      "Train size: 47890 | Test size: 16281\n",
      "Label distribution (%): {'joy': 49.69, 'anger': 22.33, 'surprise': 13.12, 'sadness': 8.2, 'fear': 4.2, 'disgust': 2.47}\n",
      "Label distribution (%): {'joy': 49.69, 'anger': 22.33, 'surprise': 13.12, 'sadness': 8.2, 'fear': 4.2, 'disgust': 2.47}\n"
     ]
    }
   ],
   "source": [
    "from pathlib import Path\n",
    "import json\n",
    "import re\n",
    "\n",
    "import numpy as np\n",
    "import pandas as pd\n",
    "\n",
    "\n",
    "DATA_DIR = Path(\"dm-lab-2-private-competition-data\")\n",
    "\n",
    "POSTS_PATH = DATA_DIR / \"final_posts.json\"\n",
    "EMOTIONS_PATH = DATA_DIR / \"emotion.csv\"\n",
    "IDENT_PATH = DATA_DIR / \"data_identification.csv\"\n",
    "SAMPLE_SUBMISSION_PATH = DATA_DIR / \"samplesubmission.csv\"\n",
    "\n",
    "# Load raw posts (nested JSON) and flatten to a compact dataframe\n",
    "with POSTS_PATH.open(\"r\", encoding=\"utf-8\") as fh:\n",
    "    posts_raw = json.load(fh)\n",
    "\n",
    "posts_df = (\n",
    "    pd.json_normalize(posts_raw)\n",
    "    .rename(\n",
    "        columns={\n",
    "            \"root._source.post.post_id\": \"post_id\",\n",
    "            \"root._source.post.text\": \"text\",\n",
    "            \"root._source.post.hashtags\": \"hashtags\",\n",
    "        }\n",
    "    )\n",
    "    [[\"post_id\", \"text\", \"hashtags\"]]\n",
    ")\n",
    "\n",
    "emotions_df = pd.read_csv(EMOTIONS_PATH).rename(columns={\"id\": \"post_id\"})\n",
    "splits_df = pd.read_csv(IDENT_PATH).rename(columns={\"id\": \"post_id\", \"split\": \"membership\"})\n",
    "sample_submission = pd.read_csv(SAMPLE_SUBMISSION_PATH)\n",
    "\n",
    "# Merge data sources and split into train/test partitions\n",
    "merged_df = (\n",
    "    posts_df\n",
    "    .merge(splits_df, on=\"post_id\", how=\"inner\")\n",
    "    .merge(emotions_df, on=\"post_id\", how=\"left\")\n",
    ")\n",
    "merged_df[\"membership\"] = merged_df[\"membership\"].str.lower()\n",
    "\n",
    "train_df = (\n",
    "    merged_df[merged_df[\"membership\"] == \"train\"]\n",
    "    .dropna(subset=[\"emotion\"])\n",
    "    .drop_duplicates(subset=[\"post_id\"])\n",
    "    .reset_index(drop=True)\n",
    ")\n",
    "test_df = (\n",
    "    merged_df[merged_df[\"membership\"] == \"test\"]\n",
    "    .drop_duplicates(subset=[\"post_id\"])\n",
    "    .reset_index(drop=True)\n",
    ")\n",
    "\n",
    "y = train_df[\"emotion\"].to_numpy()\n",
    "test_post_ids = test_df[\"post_id\"].to_numpy()\n",
    "print(f\"Using data directory: {DATA_DIR.resolve()}\")\n",
    "print(f\"Train size: {len(train_df)} | Test size: {len(test_df)}\")\n",
    "\n",
    "# Basic text cleaning\n",
    "URL_PATTERN = re.compile(r\"http\\S+|www\\.\\S+\")\n",
    "MENTION_PATTERN = re.compile(r\"@\\w+\")\n",
    "NON_ALPHANUM_PATTERN = re.compile(r\"[^a-z0-9\\s]+\")\n",
    "\n",
    "\n",
    "def clean_text(text: str) -> str:\n",
    "    if not isinstance(text, str):\n",
    "        return \"\"\n",
    "    text = text.lower()\n",
    "    text = URL_PATTERN.sub(\" \", text)\n",
    "    text = MENTION_PATTERN.sub(\" \", text)\n",
    "    text = NON_ALPHANUM_PATTERN.sub(\" \", text)\n",
    "    text = re.sub(r\"\\s+\", \" \", text).strip()\n",
    "    return text\n",
    "\n",
    "\n",
    "train_df[\"clean_text\"] = train_df[\"text\"].map(clean_text)\n",
    "test_df[\"clean_text\"] = test_df[\"text\"].map(clean_text)\n",
    "\n",
    "label_distribution = (\n",
    "    train_df[\"emotion\"].value_counts(normalize=True).mul(100).round(2).to_dict()\n",
    ")\n",
    "print(\"Label distribution (%):\", label_distribution)\n"
   ]
  },
  {
   "cell_type": "markdown",
   "metadata": {},
   "source": [
    "## 2. Feature Engineering Steps"
   ]
  },
  {
   "cell_type": "code",
   "execution_count": 3,
   "metadata": {},
   "outputs": [
    {
     "name": "stdout",
     "output_type": "stream",
     "text": [
      "TF-IDF train shape: (47890, 40000) | test shape: (16281, 40000)\n"
     ]
    }
   ],
   "source": [
    "from sklearn.feature_extraction.text import TfidfVectorizer\n",
    "\n",
    "# TF-IDF configuration keeps runtime manageable while capturing unigrams + bigrams\n",
    "tfidf_vectorizer = TfidfVectorizer(\n",
    "    max_features=40_000,\n",
    "    ngram_range=(1, 2),\n",
    "    min_df=3,\n",
    "    max_df=0.9,\n",
    "    sublinear_tf=True,\n",
    ")\n",
    "\n",
    "X_train = tfidf_vectorizer.fit_transform(train_df[\"clean_text\"])\n",
    "X_test = tfidf_vectorizer.transform(test_df[\"clean_text\"])\n",
    "\n",
    "print(f\"TF-IDF train shape: {X_train.shape} | test shape: {X_test.shape}\")\n"
   ]
  },
  {
   "cell_type": "markdown",
   "metadata": {},
   "source": [
    "## 3. Model Implementation Steps"
   ]
  },
  {
   "cell_type": "code",
   "execution_count": 4,
   "metadata": {},
   "outputs": [
    {
     "name": "stdout",
     "output_type": "stream",
     "text": [
      "Cross-validated macro F1: nan ± nan\n",
      "Submission saved to: D:\\Development\\Uni\\DataMining\\DM2025-Lab2-Exercise\\results\\competition_submissions\\submission_baseline_v1.csv\n",
      "Submission saved to: D:\\Development\\Uni\\DataMining\\DM2025-Lab2-Exercise\\results\\competition_submissions\\submission_baseline_v1.csv\n"
     ]
    },
    {
     "name": "stderr",
     "output_type": "stream",
     "text": [
      "d:\\Development\\Uni\\DataMining\\DM2025-Lab2-Exercise\\.venv\\Lib\\site-packages\\sklearn\\linear_model\\_sag.py:348: ConvergenceWarning: The max_iter was reached which means the coef_ did not converge\n",
      "  warnings.warn(\n"
     ]
    }
   ],
   "source": [
    "from pathlib import Path\n",
    "\n",
    "from sklearn.linear_model import LogisticRegression\n",
    "from sklearn.metrics import f1_score, make_scorer\n",
    "from sklearn.model_selection import StratifiedKFold, cross_val_score\n",
    "\n",
    "macro_f1 = make_scorer(f1_score, average=\"macro\")\n",
    "cv = StratifiedKFold(n_splits=5, shuffle=True, random_state=42)\n",
    "\n",
    "log_reg = LogisticRegression(\n",
    "    max_iter=2000,\n",
    "    class_weight=\"balanced\",\n",
    "    solver=\"saga\",\n",
    "    penalty=\"l2\",\n",
    "    n_jobs=-1,\n",
    ")\n",
    "\n",
    "cv_scores = cross_val_score(log_reg, X_train, y, scoring=macro_f1, cv=cv, n_jobs=-1)\n",
    "print(f\"Cross-validated macro F1: {cv_scores.mean():.4f} ± {cv_scores.std():.4f}\")\n",
    "\n",
    "log_reg.fit(X_train, y)\n",
    "test_predictions = log_reg.predict(X_test)\n",
    "\n",
    "submission_df = pd.DataFrame({\n",
    "    \"id\": test_df[\"post_id\"].values,\n",
    "    \"emotion\": test_predictions,\n",
    "})\n",
    "\n",
    "if \"id\" in sample_submission.columns:\n",
    "    submission_df = (\n",
    "        submission_df.set_index(\"id\")\n",
    "        .reindex(sample_submission[\"id\"])\n",
    "        .reset_index()\n",
    "    )\n",
    "\n",
    "results_dir = Path(\"results\") / \"competition_submissions\"\n",
    "results_dir.mkdir(parents=True, exist_ok=True)\n",
    "submission_path = results_dir / \"submission_baseline_v1.csv\"\n",
    "submission_df.to_csv(submission_path, index=False)\n",
    "\n",
    "print(f\"Submission saved to: {submission_path.resolve()}\")\n"
   ]
  }
 ],
 "metadata": {
  "kernelspec": {
   "display_name": "dm2025-lab2-exercise",
   "language": "python",
   "name": "python3"
  },
  "language_info": {
   "codemirror_mode": {
    "name": "ipython",
    "version": 3
   },
   "file_extension": ".py",
   "mimetype": "text/x-python",
   "name": "python",
   "nbconvert_exporter": "python",
   "pygments_lexer": "ipython3",
   "version": "3.11.0"
  },
  "varInspector": {
   "cols": {
    "lenName": 16,
    "lenType": 16,
    "lenVar": 40
   },
   "kernels_config": {
    "python": {
     "delete_cmd_postfix": "",
     "delete_cmd_prefix": "del ",
     "library": "var_list.py",
     "varRefreshCmd": "print(var_dic_list())"
    },
    "r": {
     "delete_cmd_postfix": ") ",
     "delete_cmd_prefix": "rm(",
     "library": "var_list.r",
     "varRefreshCmd": "cat(var_dic_list()) "
    }
   },
   "types_to_exclude": [
    "module",
    "function",
    "builtin_function_or_method",
    "instance",
    "_Feature"
   ],
   "window_display": false
  }
 },
 "nbformat": 4,
 "nbformat_minor": 4
}
